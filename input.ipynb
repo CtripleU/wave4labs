{
 "cells": [
  {
   "cell_type": "code",
   "execution_count": 1,
   "metadata": {},
   "outputs": [
    {
     "name": "stdout",
     "output_type": "stream",
     "text": [
      "Input the list of names: Seun, Anna, Hiuyt\n",
      "Input the list of missing assignments for each person: 3, 8, 1\n",
      "Input list of current grades: 45, 50, 73\n",
      "Hi Seun,\n",
      "\n",
      "This is a reminder that you have 3 assignments left to submit before you can graduate. You're current grade is 45 and can increase to 51 if you submit all assignments before the due date.\n",
      "\n",
      "\n",
      "Hi  Anna,\n",
      "\n",
      "This is a reminder that you have 8 assignments left to submit before you can graduate. You're current grade is 50 and can increase to 66 if you submit all assignments before the due date.\n",
      "\n",
      "\n",
      "Hi  Hiuyt,\n",
      "\n",
      "This is a reminder that you have 1 assignments left to submit before you can graduate. You're current grade is 73 and can increase to 75 if you submit all assignments before the due date.\n",
      "\n",
      "\n"
     ]
    }
   ],
   "source": [
    "#Write a script that does the following:\n",
    "\n",
    "#Ask for user input 3 times. Once for a list of names, once for a list of missing assignment counts, and once for a list of grades. Use this input to create lists for names, assignments, and grades.\n",
    "#Use a loop to print the message for each student with the correct values. The potential grade is simply the current grade added to two times the number of missing assignments.\n",
    "#Template code for your script:\n",
    "names =  []\n",
    "assignments =  []\n",
    "grades =  []\n",
    "\n",
    "names = input(\"Input the list of names: \").title().split(\",\")\n",
    "assignments = list(map(lambda x: int(x), input(\"Input the list of missing assignments for each person: \").split(\",\")))\n",
    "grades = list(map(lambda x: int(x), input(\"Input list of current grades: \").split(\",\")))\n",
    "\n",
    "\n",
    "# message string to be used for each student\n",
    "# HINT: use .format() with this string in your for loop\n",
    "message = \"Hi {},\\n\\nThis is a reminder that you have {} assignments left to \\\n",
    "submit before you can graduate. You're current grade is {} and can increase \\\n",
    "to {} if you submit all assignments before the due date.\\n\\n\"\n",
    "\n",
    "# write a for loop that iterates through each set of names, assignments, and grades to print each student's \n",
    "\n",
    "for name, assignment, grade in zip(names, assignments, grades):\n",
    "    print(message.format(name, assignment, grade, assignment*2 + grade))"
   ]
  },
  {
   "cell_type": "code",
   "execution_count": null,
   "metadata": {},
   "outputs": [],
   "source": []
  }
 ],
 "metadata": {
  "kernelspec": {
   "display_name": "Python 3",
   "language": "python",
   "name": "python3"
  },
  "language_info": {
   "codemirror_mode": {
    "name": "ipython",
    "version": 3
   },
   "file_extension": ".py",
   "mimetype": "text/x-python",
   "name": "python",
   "nbconvert_exporter": "python",
   "pygments_lexer": "ipython3",
   "version": "3.7.4"
  }
 },
 "nbformat": 4,
 "nbformat_minor": 2
}
